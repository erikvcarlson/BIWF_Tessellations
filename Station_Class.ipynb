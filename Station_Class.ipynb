{
 "cells": [
  {
   "cell_type": "markdown",
   "id": "bf28d341",
   "metadata": {},
   "source": [
    "##### Project WOW Tessellation Code\n",
    "\n",
    "We are going to use an OOP approach utilizing two main classes First, we will have an antenna class which will contain the radiation pattern of each of antenna assigned to a station. Secondly, we will have a station class which will contain information such as the station name and type. This allows us to rapidly create new stations and assign new antennas to that station. \n"
   ]
  },
  {
   "cell_type": "code",
   "execution_count": 2,
   "id": "8bf925b2",
   "metadata": {},
   "outputs": [],
   "source": [
    "import pandas as pd\n",
    "import numpy as np\n",
    "import math \n",
    "from scipy import spatial\n",
    "import matplotlib.pyplot as plt\n",
    "from shapely.geometry import Point, Polygon\n",
    "\n",
    "\n",
    "class Station:\n",
    "    def __init__(self,name,lat,long):\n",
    "        self.name = name #Station name - string\n",
    "        self.lat = lat # Latitude of the station - float \n",
    "        self.long = long # Longitude of the station - float\n",
    "        self.antennas = [] #list of antennas to store antenna objects assigned to the station\n",
    "    def add_antenna(self, antenna):\n",
    "        #check if the item we are adding to the antenna list is an antenna, and then add it to the antenna list\n",
    "        #return an error if the item is invalid. \n",
    "        if isinstance(antenna, Antenna):\n",
    "            self.antennas.append(antenna)\n",
    "            print(f\"{antenna.name} added to {self.name}'s antennas.\")\n",
    "        else:\n",
    "            print(\"Invalid antenna object. Please provide an Antenna instance.\")\n",
    "    def list_antennas(self):\n",
    "        #mostly meant for debugging and information\n",
    "        #simply iterates over the antennas added to the antenna list and prints the name of the antenna and the frequency \n",
    "        print(f\"{self.name}'s antennas:\")\n",
    "        for antenna in self.antennas:\n",
    "            print(f\"{antenna.name} ({antenna.frequency} MHz)\")\n",
    "    def provide_boundary(self,antenna_number,RSSI_Thresh,offset_X = 0, offset_Y = 0,offset_Z = 0):\n",
    "        #antenna_number - int - which antenna number are we generating a geometry for?\n",
    "        #RSSI_Thresh - int - the RSSI (dBm) of the detection we are looking to generate a border for\n",
    "        #offset_X - float - the East-West offset from the reference station in meters. Default is 0m\n",
    "        #offset_Y - float - the North-South offset from the referecne station in meters. Default is 0m \n",
    "        \n",
    "        xy = self.antennas[antenna_number].rad_pattern[self.antennas[antenna_number].rad_pattern.RSSI == RSSI_Thresh]\n",
    "        \n",
    "        x = xy.X - offset_X\n",
    "        y = xy.Y - offset_Y\n",
    "        z = xy.Z - offset_Z\n",
    "        xyz = np.column_stack((np.array(x).T,np.array(y).T,np.array(z).T))\n",
    "        \n",
    "        hull = spatial.ConvexHull(xyz, incremental=False, qhull_options='Qt')\n",
    "        hull_indices = hull.vertices\n",
    "        \n",
    "        #the below can be optimized\n",
    "        boundary_x = []\n",
    "        boundary_y = []\n",
    "        boundary_z = []\n",
    "        for i in range(len(hull_indices)):\n",
    "            index = hull_indices[i]\n",
    "            boundary_x.append(xyz[index, 0].astype('float64'))\n",
    "            boundary_y.append(xyz[index, 1].astype('float64'))\n",
    "            boundary_z.append(xyz[index, 2].astype('float64'))\n",
    "        # return a Nx3 numpy array with the points which make the complex hull (boundary) of points which contain the\n",
    "        # points with a signal strength greater than or equal to the threshold \n",
    "        return np.column_stack((np.array(boundary_x).T,np.array(boundary_y).T,np.array(boundary_z).T))\n",
    "\n",
    "class Antenna: \n",
    "    def __init__(self,name,ant_type,orientation,freq):\n",
    "        self.name = name #string\n",
    "        self.ant_type = ant_type #antenna type, generally yagi or omni \n",
    "        self.orientation = orientation # in units of degrees, 0 degrees is North \n",
    "        self.frequency = freq # frequency is megahertz \n",
    "    def assign_pattern(self,pattern):\n",
    "        # the pattern variable is going to be a pandas dataframe read in from our calibration data\n",
    "        # Define the rotation angle in degrees,use zero for an omni\n",
    "        theta = self.orientation\n",
    "\n",
    "        # Convert degrees to radians\n",
    "        theta = np.deg2rad(theta)\n",
    "\n",
    "        # Calculate sine and cosine of the rotation angle\n",
    "        cos_theta = np.cos(theta)\n",
    "        sin_theta = np.sin(theta)\n",
    "\n",
    "        # Apply rotation matrix to X and Y\n",
    "        new_x = pattern['X'] * cos_theta - pattern['Y'] * sin_theta\n",
    "        new_y = pattern['X'] * sin_theta + pattern['Y'] * cos_theta\n",
    "        \n",
    "        rotated_df = pd.DataFrame({'X': new_x,'Y': new_y,'Z': pattern['Z'],'RSSI': pattern['RSSI']})\n",
    "\n",
    "        self.rad_pattern = rotated_df\n",
    "    def convert_to_lat_long(self,station):\n",
    "        # Earth radius (mean radius in meters)\n",
    "        earth_radius = 6371000  # Approximate value for the Earth's mean radius\n",
    "\n",
    "        # Convert station's latitude and longitude from degrees to radians\n",
    "        lat1 = math.radians(station.lat)\n",
    "        lon1 = math.radians(station.long)\n",
    "\n",
    "        # Calculate new latitude and longitude using DataFrame columns\n",
    "        lat2 = lat1 + (self.rad_pattern['Y']/ earth_radius)\n",
    "        lon2 = lon1 + (self.rad_pattern['X'] / (earth_radius * math.cos(lat1)))\n",
    "        # Convert back to degrees and add the results as new columns\n",
    "        self.rad_pattern['Latitude'] = np.degrees(lat2)\n",
    "        self.rad_pattern['Longitude'] = np.degrees(lon2)"
   ]
  },
  {
   "cell_type": "code",
   "execution_count": 2,
   "id": "975592a6",
   "metadata": {},
   "outputs": [],
   "source": [
    "# just a test \n",
    "home_station = Station('home',41.642391, -71.544212)"
   ]
  },
  {
   "cell_type": "code",
   "execution_count": 4,
   "id": "4b65c9a9",
   "metadata": {},
   "outputs": [],
   "source": [
    "import sys\n",
    "\n",
    "# Get a list of packages being used by the notebook\n",
    "packages = [package.split('==')[0] for package in sys.modules.keys() if hasattr(sys.modules[package], '__version__')]\n",
    "\n",
    "# Remove duplicates\n",
    "packages = list(set(packages))"
   ]
  },
  {
   "cell_type": "code",
   "execution_count": 1,
   "id": "04e085c0",
   "metadata": {},
   "outputs": [],
   "source": [
    "import cupy"
   ]
  },
  {
   "cell_type": "code",
   "execution_count": 2,
   "id": "ac125cc8",
   "metadata": {},
   "outputs": [
    {
     "name": "stdout",
     "output_type": "stream",
     "text": [
      "\u001b[33mWARNING: Package(s) not found: cupy\u001b[0m\u001b[33m\n",
      "\u001b[0mNote: you may need to restart the kernel to use updated packages.\n"
     ]
    }
   ],
   "source": [
    "pip show cupy"
   ]
  },
  {
   "cell_type": "code",
   "execution_count": 7,
   "id": "2df375c3",
   "metadata": {},
   "outputs": [
    {
     "name": "stdout",
     "output_type": "stream",
     "text": [
      "ansi2html==1.8.0\n",
      "aplpy==2.1.0\n",
      "appdirs==1.4.4\n",
      "apt-xapian-index==0.49\n",
      "argon2-cffi==21.1.0\n",
      "astropy==5.2\n",
      "astropy-healpix==0.6\n",
      "astroquery==0.4.6\n",
      "attrs==21.2.0\n",
      "awscli==1.22.34\n",
      "Babel==2.8.0\n",
      "backcall==0.2.0\n",
      "backports.shutil-get-terminal-size==1.0.0\n",
      "bdsf==1.10.2\n",
      "beautifulsoup4==4.10.0\n",
      "beniget==0.4.1\n",
      "big-O==0.11.0\n",
      "bleach==4.1.0\n",
      "blessings==1.7\n",
      "blinker==1.6.3\n",
      "botocore==1.23.34\n",
      "Brotli==1.0.9\n",
      "bs4==0.0.1\n",
      "casadata==2023.4.10\n",
      "casatasks==6.6.0.20\n",
      "casatools==6.6.0.20\n",
      "casaviewer==0.0.0.2\n",
      "cc1101-python==1.3.1\n",
      "certifi==2020.6.20\n",
      "cffi==1.15.1\n",
      "chardet==4.0.0\n",
      "click==8.1.7\n",
      "cloudpickle==3.0.0\n",
      "colorama==0.4.4\n",
      "comm==0.2.1\n",
      "command-not-found==0.3\n",
      "cryptography==40.0.2\n",
      "cssselect==1.1.0\n",
      "cupshelpers==1.0\n",
      "cupy-cuda11x==12.2.0\n",
      "cycler==0.11.0\n",
      "Cython==0.29.32\n",
      "dash==2.14.1\n",
      "dash-core-components==2.0.0\n",
      "dash-html-components==2.0.0\n",
      "dash-table==5.0.0\n",
      "dask==2023.12.0\n",
      "dbus-python==1.2.18\n",
      "debugpy==1.8.0\n",
      "decorator==4.4.2\n",
      "deepdiff==5.8.1\n",
      "defusedxml==0.7.1\n",
      "distro==1.7.0\n",
      "distro-info==1.1+ubuntu0.2\n",
      "docutils==0.17.1\n",
      "entrypoints==0.4\n",
      "et-xmlfile==1.1.0\n",
      "fastrlock==0.8.2\n",
      "fit2gpx==0.0.7\n",
      "fitdecode==0.10.0\n",
      "fitparse==1.2.0\n",
      "Flask==3.0.0\n",
      "fonttools==4.29.1\n",
      "fs==2.4.12\n",
      "fsspec==2023.12.2\n",
      "gast==0.5.2\n",
      "gpg==1.16.0\n",
      "gpustat==0.6.0\n",
      "gpxpy==1.5.0\n",
      "gwdatafind==1.1.3\n",
      "h5py==3.8.0\n",
      "html5lib==1.1\n",
      "httplib2==0.20.2\n",
      "idna==3.3\n",
      "igwn-auth-utils==0.4.0\n",
      "imageio==2.21.1\n",
      "importlib-metadata==7.0.0\n",
      "ipykernel==6.7.0\n",
      "ipympl==0.9.3\n",
      "ipython==7.31.1\n",
      "ipython_genutils==0.2.0\n",
      "ipywidgets==8.1.1\n",
      "itsdangerous==2.1.2\n",
      "jedi==0.18.0\n",
      "jeepney==0.7.1\n",
      "Jinja2==3.1.2\n",
      "jmespath==0.10.0\n",
      "joblib==1.2.0\n",
      "jsonschema==3.2.0\n",
      "jupyter-client==7.1.2\n",
      "jupyter-core==4.9.1\n",
      "jupyter-dash==0.4.2\n",
      "jupyterlab-pygments==0.1.2\n",
      "jupyterlab-widgets==3.0.9\n",
      "kaleido==0.2.1\n",
      "keyring==23.5.0\n",
      "kiwisolver==1.3.2\n",
      "lalsuite==7.15\n",
      "language-selector==0.1\n",
      "launchpadlib==1.10.16\n",
      "lazr.restfulclient==0.14.4\n",
      "lazr.uri==1.0.6\n",
      "ligo-common==1.0.3\n",
      "ligo-segments==1.4.0\n",
      "locket==1.0.0\n",
      "lscsoft-glue==3.0.1\n",
      "lxml==4.8.0\n",
      "lz4==3.1.3+dfsg\n",
      "Mako==1.2.4\n",
      "MarkupSafe==2.1.3\n",
      "matplotlib==3.5.1\n",
      "matplotlib-inline==0.1.3\n",
      "more-itertools==8.10.0\n",
      "mpld3==0.5.9\n",
      "mpmath==0.0.0\n",
      "NavPy==1.0\n",
      "nbclient==0.5.6\n",
      "nbconvert==6.4.0\n",
      "nbformat==5.1.3\n",
      "nest-asyncio==1.5.4\n",
      "netifaces==0.11.0\n",
      "networkx==2.8.5\n",
      "notebook==6.4.8\n",
      "numpy==1.24.1\n",
      "nvidia-ml-py3==7.352.0\n",
      "oauthlib==3.2.0\n",
      "odfpy==1.4.1\n",
      "olefile==0.46\n",
      "openpyxl==3.1.0\n",
      "ordered-set==4.1.0\n",
      "packaging==22.0\n",
      "panda==0.3.1\n",
      "pandapower==2.10.1\n",
      "pandas==1.4.3\n",
      "pandocfilters==1.5.0\n",
      "parso==0.8.1\n",
      "partd==1.4.1\n",
      "pegasus-wms.api==5.0.5\n",
      "pegasus-wms.common==5.0.5\n",
      "pexpect==4.8.0\n",
      "pickleshare==0.7.5\n",
      "Pillow==9.0.1\n",
      "plotly==5.14.1\n",
      "ply==3.11\n",
      "prometheus-client==0.9.0\n",
      "prompt-toolkit==3.0.28\n",
      "psutil==5.9.0\n",
      "ptyprocess==0.7.0\n",
      "py==1.10.0\n",
      "pyasn1==0.4.8\n",
      "PyAVM==0.9.5\n",
      "pycairo==1.20.1\n",
      "PyCBC==2.2.0\n",
      "pycparser==2.21\n",
      "pycups==2.0.1\n",
      "pyee==8.2.2\n",
      "pyerfa==2.0.0.1\n",
      "pyFFTW==0.13.1\n",
      "pygame==2.5.2\n",
      "Pygments==2.11.2\n",
      "PyGObject==3.42.1\n",
      "PyJWT==2.3.0\n",
      "pykoa==1.7.2\n",
      "pyOpenSSL==23.1.1\n",
      "pyparsing==2.4.7\n",
      "pyppeteer==0.2.6\n",
      "PyQt5==5.15.6\n",
      "PyQt5-sip==12.9.1\n",
      "pyregion==2.2.0\n",
      "pyrsistent==0.18.1\n",
      "pyRXP==3.0.1\n",
      "pyserial==3.5\n",
      "python-apt==2.4.0+ubuntu3\n",
      "python-casacore==3.5.2\n",
      "python-dateutil==2.8.1\n",
      "python-debian==0.1.43+ubuntu1.1\n",
      "python-ligo-lw==1.8.3\n",
      "pythran==0.10.0\n",
      "pytz==2022.1\n",
      "pyuvdata==2.2.12\n",
      "PyVirtualDisplay==3.0\n",
      "pyvo==1.3\n",
      "PyWavelets==1.3.0\n",
      "PyYAML==6.0\n",
      "pyzmq==22.3.0\n",
      "regex==2023.10.3\n",
      "reproject==0.8\n",
      "requests==2.25.1\n",
      "retrying==1.3.4\n",
      "roman==3.3\n",
      "rsa==4.8\n",
      "s3transfer==0.5.0\n",
      "safe-netrc==1.0.1\n",
      "scikit-image==0.19.3\n",
      "scikit-learn==1.3.0\n",
      "scipy==1.8.0\n",
      "scitokens==1.7.4\n",
      "scour==0.38.2\n",
      "screen-resolution-extra==0.0.0\n",
      "screenkey==1.5\n",
      "SecretStorage==3.3.1\n",
      "Send2Trash==1.8.1b0\n",
      "setuptools-scm==7.1.0\n",
      "Shapely==1.8.2\n",
      "six==1.16.0\n",
      "soupsieve==2.3.1\n",
      "ssh-import-id==5.11\n",
      "sympy==1.9\n",
      "systemd-python==234\n",
      "tenacity==8.2.2\n",
      "terminado==0.13.1\n",
      "testpath==0.5.0\n",
      "threadpoolctl==3.2.0\n",
      "tifffile==2022.8.3\n",
      "tomli==2.0.1\n",
      "toolz==0.12.0\n",
      "tornado==6.1\n",
      "tqdm==4.64.1\n",
      "traitlets==5.1.1\n",
      "typing_extensions==4.4.0\n",
      "ubuntu-advantage-tools==8001\n",
      "ubuntu-drivers-common==0.0.0\n",
      "ufoLib2==0.13.1\n",
      "ufw==0.36.1\n",
      "unattended-upgrades==0.1\n",
      "unicodedata2==14.0.0\n",
      "urllib3==1.26.5\n",
      "usb-creator==0.3.7\n",
      "wadllib==1.3.6\n",
      "wcwidth==0.2.5\n",
      "webencodings==0.5.1\n",
      "websockets==9.1\n",
      "Werkzeug==3.0.1\n",
      "widgetsnbextension==4.0.9\n",
      "wxPython==4.0.7\n",
      "xgboost==1.7.6\n",
      "xkit==0.0.0\n",
      "xmltodict==0.13.0\n",
      "zipp==1.0.0\n",
      "Note: you may need to restart the kernel to use updated packages.\n"
     ]
    }
   ],
   "source": [
    "pip freeze"
   ]
  },
  {
   "cell_type": "code",
   "execution_count": 3,
   "id": "f6df0c88",
   "metadata": {},
   "outputs": [],
   "source": [
    "# creating four bullshit antennas to assign to the bullshit station\n",
    "\n",
    "SEL_Comp_Data = pd.read_csv('final_SEL_composite_data_upd17.csv')\n",
    "\n",
    "a1 = Antenna('1','yagi',0,434)\n",
    "a1.assign_pattern(SEL_Comp_Data)\n",
    "a1.convert_to_lat_long(home_station)\n",
    "\n",
    "a2 = Antenna('2','yagi',90,434)\n",
    "a2.assign_pattern(SEL_Comp_Data)\n",
    "a2.convert_to_lat_long(home_station)\n",
    "\n",
    "a3 = Antenna('3','yagi',180,434)\n",
    "a3.assign_pattern(SEL_Comp_Data)\n",
    "a3.convert_to_lat_long(home_station)\n",
    "\n",
    "a4 = Antenna('4','yagi',270,434)\n",
    "a4.assign_pattern(SEL_Comp_Data)\n",
    "a4.convert_to_lat_long(home_station)\n"
   ]
  },
  {
   "cell_type": "code",
   "execution_count": 4,
   "id": "5fc2758e",
   "metadata": {},
   "outputs": [
    {
     "name": "stdout",
     "output_type": "stream",
     "text": [
      "1 added to home's antennas.\n",
      "2 added to home's antennas.\n",
      "3 added to home's antennas.\n",
      "4 added to home's antennas.\n"
     ]
    }
   ],
   "source": [
    "home_station.add_antenna(a1)\n",
    "home_station.add_antenna(a2)\n",
    "home_station.add_antenna(a3)\n",
    "home_station.add_antenna(a4)"
   ]
  },
  {
   "cell_type": "code",
   "execution_count": 5,
   "id": "b7771ce9",
   "metadata": {},
   "outputs": [
    {
     "name": "stdout",
     "output_type": "stream",
     "text": [
      "home's antennas:\n",
      "1 (434 MHz)\n",
      "2 (434 MHz)\n",
      "3 (434 MHz)\n",
      "4 (434 MHz)\n"
     ]
    }
   ],
   "source": [
    "home_station.list_antennas()"
   ]
  },
  {
   "cell_type": "code",
   "execution_count": 6,
   "id": "9bca9f53",
   "metadata": {},
   "outputs": [
    {
     "data": {
      "text/html": [
       "<div>\n",
       "<style scoped>\n",
       "    .dataframe tbody tr th:only-of-type {\n",
       "        vertical-align: middle;\n",
       "    }\n",
       "\n",
       "    .dataframe tbody tr th {\n",
       "        vertical-align: top;\n",
       "    }\n",
       "\n",
       "    .dataframe thead th {\n",
       "        text-align: right;\n",
       "    }\n",
       "</style>\n",
       "<table border=\"1\" class=\"dataframe\">\n",
       "  <thead>\n",
       "    <tr style=\"text-align: right;\">\n",
       "      <th></th>\n",
       "      <th>X</th>\n",
       "      <th>Y</th>\n",
       "      <th>Z</th>\n",
       "      <th>RSSI</th>\n",
       "      <th>Latitude</th>\n",
       "      <th>Longitude</th>\n",
       "    </tr>\n",
       "  </thead>\n",
       "  <tbody>\n",
       "    <tr>\n",
       "      <th>0</th>\n",
       "      <td>5020.867456</td>\n",
       "      <td>-1752.310126</td>\n",
       "      <td>-39.9</td>\n",
       "      <td>-94.0</td>\n",
       "      <td>41.626632</td>\n",
       "      <td>-71.483790</td>\n",
       "    </tr>\n",
       "    <tr>\n",
       "      <th>1</th>\n",
       "      <td>5020.598333</td>\n",
       "      <td>-1751.659570</td>\n",
       "      <td>-39.9</td>\n",
       "      <td>-90.0</td>\n",
       "      <td>41.626638</td>\n",
       "      <td>-71.483793</td>\n",
       "    </tr>\n",
       "    <tr>\n",
       "      <th>2</th>\n",
       "      <td>5020.594491</td>\n",
       "      <td>-1751.513529</td>\n",
       "      <td>-39.9</td>\n",
       "      <td>-106.0</td>\n",
       "      <td>41.626639</td>\n",
       "      <td>-71.483793</td>\n",
       "    </tr>\n",
       "    <tr>\n",
       "      <th>3</th>\n",
       "      <td>5020.956576</td>\n",
       "      <td>-1749.311878</td>\n",
       "      <td>-39.9</td>\n",
       "      <td>-107.0</td>\n",
       "      <td>41.626659</td>\n",
       "      <td>-71.483789</td>\n",
       "    </tr>\n",
       "    <tr>\n",
       "      <th>4</th>\n",
       "      <td>5021.294274</td>\n",
       "      <td>-1749.376064</td>\n",
       "      <td>-39.9</td>\n",
       "      <td>-107.0</td>\n",
       "      <td>41.626658</td>\n",
       "      <td>-71.483785</td>\n",
       "    </tr>\n",
       "    <tr>\n",
       "      <th>...</th>\n",
       "      <td>...</td>\n",
       "      <td>...</td>\n",
       "      <td>...</td>\n",
       "      <td>...</td>\n",
       "      <td>...</td>\n",
       "      <td>...</td>\n",
       "    </tr>\n",
       "    <tr>\n",
       "      <th>77807</th>\n",
       "      <td>16781.424347</td>\n",
       "      <td>-7123.451581</td>\n",
       "      <td>759.4</td>\n",
       "      <td>-102.0</td>\n",
       "      <td>41.578328</td>\n",
       "      <td>-71.342261</td>\n",
       "    </tr>\n",
       "    <tr>\n",
       "      <th>77808</th>\n",
       "      <td>17019.955895</td>\n",
       "      <td>-7230.010327</td>\n",
       "      <td>750.8</td>\n",
       "      <td>-98.0</td>\n",
       "      <td>41.577370</td>\n",
       "      <td>-71.339391</td>\n",
       "    </tr>\n",
       "    <tr>\n",
       "      <th>77809</th>\n",
       "      <td>17059.376498</td>\n",
       "      <td>-7247.359652</td>\n",
       "      <td>749.8</td>\n",
       "      <td>-103.0</td>\n",
       "      <td>41.577214</td>\n",
       "      <td>-71.338917</td>\n",
       "    </tr>\n",
       "    <tr>\n",
       "      <th>77810</th>\n",
       "      <td>17178.502677</td>\n",
       "      <td>-7298.545849</td>\n",
       "      <td>746.6</td>\n",
       "      <td>-108.0</td>\n",
       "      <td>41.576754</td>\n",
       "      <td>-71.337483</td>\n",
       "    </tr>\n",
       "    <tr>\n",
       "      <th>77811</th>\n",
       "      <td>17220.449442</td>\n",
       "      <td>-7311.642370</td>\n",
       "      <td>746.0</td>\n",
       "      <td>-105.0</td>\n",
       "      <td>41.576636</td>\n",
       "      <td>-71.336978</td>\n",
       "    </tr>\n",
       "  </tbody>\n",
       "</table>\n",
       "<p>77812 rows × 6 columns</p>\n",
       "</div>"
      ],
      "text/plain": [
       "                  X            Y      Z   RSSI   Latitude  Longitude\n",
       "0       5020.867456 -1752.310126  -39.9  -94.0  41.626632 -71.483790\n",
       "1       5020.598333 -1751.659570  -39.9  -90.0  41.626638 -71.483793\n",
       "2       5020.594491 -1751.513529  -39.9 -106.0  41.626639 -71.483793\n",
       "3       5020.956576 -1749.311878  -39.9 -107.0  41.626659 -71.483789\n",
       "4       5021.294274 -1749.376064  -39.9 -107.0  41.626658 -71.483785\n",
       "...             ...          ...    ...    ...        ...        ...\n",
       "77807  16781.424347 -7123.451581  759.4 -102.0  41.578328 -71.342261\n",
       "77808  17019.955895 -7230.010327  750.8  -98.0  41.577370 -71.339391\n",
       "77809  17059.376498 -7247.359652  749.8 -103.0  41.577214 -71.338917\n",
       "77810  17178.502677 -7298.545849  746.6 -108.0  41.576754 -71.337483\n",
       "77811  17220.449442 -7311.642370  746.0 -105.0  41.576636 -71.336978\n",
       "\n",
       "[77812 rows x 6 columns]"
      ]
     },
     "execution_count": 6,
     "metadata": {},
     "output_type": "execute_result"
    }
   ],
   "source": [
    "home_station.antennas[0].rad_pattern"
   ]
  },
  {
   "cell_type": "code",
   "execution_count": 7,
   "id": "d320ec10",
   "metadata": {},
   "outputs": [
    {
     "name": "stdout",
     "output_type": "stream",
     "text": [
      "1 added to SEL's antennas.\n",
      "2 added to SEL's antennas.\n",
      "3 added to SEL's antennas.\n",
      "4 added to SEL's antennas.\n"
     ]
    }
   ],
   "source": [
    "#Setup each of the actual stations\n",
    "\n",
    "SEL_Station = Station('SEL',41.1534, -71.5521)\n",
    "SEL_Comp_Data = pd.read_csv('final_SEL_composite_data_upd17.csv')\n",
    "\n",
    "\n",
    "a1 = Antenna('1','yagi',17,434)\n",
    "a1.assign_pattern(SEL_Comp_Data)\n",
    "a1.convert_to_lat_long(home_station)\n",
    "\n",
    "a2 = Antenna('2','yagi',17+90,434)\n",
    "a2.assign_pattern(SEL_Comp_Data)\n",
    "a2.convert_to_lat_long(home_station)\n",
    "\n",
    "a3 = Antenna('3','yagi',180+17,434)\n",
    "a3.assign_pattern(SEL_Comp_Data)\n",
    "a3.convert_to_lat_long(home_station)\n",
    "\n",
    "a4 = Antenna('4','yagi',270+17,434)\n",
    "a4.assign_pattern(SEL_Comp_Data)\n",
    "a4.convert_to_lat_long(home_station)\n",
    "\n",
    "SEL_Station.add_antenna(a1)\n",
    "SEL_Station.add_antenna(a2)\n",
    "SEL_Station.add_antenna(a3)\n",
    "SEL_Station.add_antenna(a4)"
   ]
  },
  {
   "cell_type": "code",
   "execution_count": 8,
   "id": "625bacb3",
   "metadata": {},
   "outputs": [
    {
     "name": "stdout",
     "output_type": "stream",
     "text": [
      "1 added to BRR's antennas.\n",
      "2 added to BRR's antennas.\n",
      "3 added to BRR's antennas.\n",
      "4 added to BRR's antennas.\n"
     ]
    }
   ],
   "source": [
    "BRR_Station = Station('BRR',41.1479, -71.5521)\n",
    "BRR_Comp_Data = pd.read_csv('final_BRR_composite_data_upd68.csv')\n",
    "\n",
    "\n",
    "a1 = Antenna('1','yagi',0+68,434)\n",
    "a1.assign_pattern(BRR_Comp_Data)\n",
    "a1.convert_to_lat_long(BRR_Station)\n",
    "\n",
    "a2 = Antenna('2','yagi',90+68,434)\n",
    "a2.assign_pattern(BRR_Comp_Data)\n",
    "a2.convert_to_lat_long(BRR_Station)\n",
    "\n",
    "a3 = Antenna('3','yagi',180+68,434)\n",
    "a3.assign_pattern(BRR_Comp_Data)\n",
    "a3.convert_to_lat_long(BRR_Station)\n",
    "\n",
    "a4 = Antenna('4','yagi',270+68,434)\n",
    "a4.assign_pattern(BRR_Comp_Data)\n",
    "a4.convert_to_lat_long(BRR_Station)\n",
    "\n",
    "BRR_Station.add_antenna(a1)\n",
    "BRR_Station.add_antenna(a2)\n",
    "BRR_Station.add_antenna(a3)\n",
    "BRR_Station.add_antenna(a4)"
   ]
  },
  {
   "cell_type": "code",
   "execution_count": 9,
   "id": "7d3df3e9",
   "metadata": {},
   "outputs": [
    {
     "name": "stdout",
     "output_type": "stream",
     "text": [
      "1 added to MON's antennas.\n",
      "2 added to MON's antennas.\n",
      "3 added to MON's antennas.\n",
      "4 added to MON's antennas.\n"
     ]
    }
   ],
   "source": [
    "MON_Station = Station('MON',41.1534, -71.5521)\n",
    "MON_Comp_Data = pd.read_csv('final_MON_composite_data_upd80.csv')\n",
    "\n",
    "\n",
    "a1 = Antenna('1','yagi',0+80,434)\n",
    "a1.assign_pattern(MON_Comp_Data)\n",
    "a1.convert_to_lat_long(MON_Station)\n",
    "\n",
    "a2 = Antenna('2','yagi',90+80,434)\n",
    "a2.assign_pattern(SEL_Comp_Data)\n",
    "a2.convert_to_lat_long(MON_Station)\n",
    "\n",
    "a3 = Antenna('3','yagi',180+80,434)\n",
    "a3.assign_pattern(SEL_Comp_Data)\n",
    "a3.convert_to_lat_long(MON_Station)\n",
    "\n",
    "a4 = Antenna('4','yagi',270+80,434)\n",
    "a4.assign_pattern(SEL_Comp_Data)\n",
    "a4.convert_to_lat_long(MON_Station)\n",
    "\n",
    "MON_Station.add_antenna(a1)\n",
    "MON_Station.add_antenna(a2)\n",
    "MON_Station.add_antenna(a3)\n",
    "MON_Station.add_antenna(a4)"
   ]
  },
  {
   "cell_type": "code",
   "execution_count": 10,
   "id": "f5183320",
   "metadata": {},
   "outputs": [],
   "source": [
    "#Let us start working some geometries\n",
    "\n",
    "df = pd.read_csv('allTagsAll390.csv',low_memory=False)\n",
    "\n",
    "#BIWF goes offline on 11-29-2021\n",
    "#SE Light goes offline on 12-25-2021\n",
    "#Black Rock Goes offline on 5-26-2022\n",
    "\n",
    "\n",
    "\n",
    "#remove any detections from the MOTUS project which are detected after the stations came down \n",
    "df['ts'] = pd.to_datetime(df['ts'])\n",
    "df1 = df[df['ts'] < pd.to_datetime('2022-05-26')]\n",
    "\n",
    "#filter just our recievers\n",
    "mask = (df1['recvDeployName'] == 'Black_Rock_434') | (df1['recvDeployName'] == 'SE_Light_434') | (df1['recv'] == 'CTT-6A8468DA84C0')\n",
    "\n",
    "#BIT is the Block Island Turbine\n",
    "df_Black_Rock = df1[df1['recvDeployName'] == 'Black_Rock_434'].reset_index()\n",
    "df_SE_Light = df1[df1['recvDeployName'] == 'SE_Light_434'].reset_index()\n",
    "df_BIT = df1[df1['recv'] == 'CTT-6A8468DA84C0'].reset_index()"
   ]
  },
  {
   "cell_type": "code",
   "execution_count": 11,
   "id": "a692e307",
   "metadata": {},
   "outputs": [],
   "source": [
    "#We are going to start trying to locate some of the target species that we know were tagged. Pam informed me that\n",
    "#there was a signular falcon which was double tagged that traveled through our station coverage area. \n",
    "\n",
    "df_BR_Falcon = df_Black_Rock[df_Black_Rock['speciesEN'] == 'Peregrine Falcon'].reset_index()\n",
    "df_SE_Light_Falcon = df_SE_Light[df_SE_Light['speciesEN'] == 'Peregrine Falcon'].reset_index()\n",
    "df_BIT_Falcon = df_BIT[df_BIT['speciesEN'] == 'Peregrine Falcon'].reset_index()"
   ]
  },
  {
   "cell_type": "code",
   "execution_count": 43,
   "id": "ecc026f9",
   "metadata": {},
   "outputs": [
    {
     "data": {
      "text/plain": [
       "{1633870798.0: [(0, 4), (2, 385), (2, 386), (2, 387), (2, 388)],\n",
       " 1633962325.0: [(1, 1), (2, 1032), (2, 1033)],\n",
       " 1633816172.0: [(2, 21), (2, 22), (2, 23), (2, 24), (2, 25)],\n",
       " 1633816177.0: [(2, 26), (2, 27), (2, 28), (2, 29)],\n",
       " 1633816182.0: [(2, 30), (2, 31), (2, 32)],\n",
       " 1633816228.0: [(2, 38), (2, 39), (2, 40)],\n",
       " 1633816233.0: [(2, 41), (2, 42), (2, 43), (2, 44)],\n",
       " 1633816239.0: [(2, 45), (2, 46), (2, 47), (2, 48)],\n",
       " 1633816244.0: [(2, 49), (2, 50), (2, 51)],\n",
       " 1633816249.0: [(2, 52), (2, 53), (2, 54)],\n",
       " 1633816254.0: [(2, 55), (2, 56), (2, 57)],\n",
       " 1633816259.0: [(2, 58), (2, 59), (2, 60), (2, 61), (2, 62)],\n",
       " 1633816264.0: [(2, 63), (2, 64), (2, 65), (2, 66), (2, 67)],\n",
       " 1633816269.0: [(2, 68), (2, 69), (2, 70), (2, 71), (2, 72)],\n",
       " 1633816275.0: [(2, 73), (2, 74), (2, 75), (2, 76), (2, 77)],\n",
       " 1633816296.0: [(2, 78), (2, 79), (2, 80), (2, 81)],\n",
       " 1633816301.0: [(2, 82), (2, 83), (2, 84), (2, 85), (2, 86)],\n",
       " 1633816319.0: [(2, 87), (2, 88), (2, 89), (2, 90), (2, 91)],\n",
       " 1633816336.0: [(2, 92), (2, 93), (2, 94), (2, 95), (2, 96)],\n",
       " 1633816362.0: [(2, 97), (2, 98), (2, 99), (2, 100), (2, 101)],\n",
       " 1633816367.0: [(2, 102), (2, 103), (2, 104), (2, 105), (2, 106)],\n",
       " 1633816372.0: [(2, 107), (2, 108), (2, 109), (2, 110), (2, 111)],\n",
       " 1633816377.0: [(2, 112), (2, 113), (2, 114), (2, 115)],\n",
       " 1633816415.0: [(2, 116), (2, 117), (2, 118), (2, 119), (2, 120)],\n",
       " 1633816586.0: [(2, 121), (2, 122), (2, 123), (2, 124), (2, 125)],\n",
       " 1633816591.0: [(2, 126), (2, 127), (2, 128), (2, 129), (2, 130)],\n",
       " 1633816596.0: [(2, 131), (2, 132), (2, 133), (2, 134), (2, 135)],\n",
       " 1633816622.0: [(2, 136), (2, 137), (2, 138), (2, 139), (2, 140)],\n",
       " 1633816782.0: [(2, 141), (2, 142), (2, 143), (2, 144), (2, 145)],\n",
       " 1633816787.0: [(2, 146), (2, 147), (2, 148), (2, 149), (2, 150)],\n",
       " 1633816792.0: [(2, 151), (2, 152), (2, 153), (2, 154), (2, 155)],\n",
       " 1633816798.0: [(2, 156), (2, 157), (2, 158)],\n",
       " 1633816834.0: [(2, 159), (2, 160), (2, 161), (2, 162), (2, 163)],\n",
       " 1633816924.0: [(2, 166), (2, 167), (2, 168)],\n",
       " 1633816952.0: [(2, 170), (2, 171), (2, 172)],\n",
       " 1633816973.0: [(2, 177), (2, 178), (2, 179), (2, 180), (2, 181)],\n",
       " 1633816987.0: [(2, 182), (2, 183), (2, 184), (2, 185)],\n",
       " 1633864629.0: [(2, 198), (2, 199), (2, 200), (2, 201), (2, 202)],\n",
       " 1633864634.0: [(2, 203), (2, 204), (2, 205), (2, 206), (2, 207)],\n",
       " 1633864655.0: [(2, 208), (2, 209), (2, 210), (2, 211), (2, 212)],\n",
       " 1633864660.0: [(2, 213), (2, 214), (2, 215)],\n",
       " 1633864665.0: [(2, 216), (2, 217), (2, 218), (2, 219)],\n",
       " 1633865789.0: [(2, 223), (2, 224), (2, 225)],\n",
       " 1633865794.0: [(2, 226), (2, 227), (2, 228)],\n",
       " 1633865810.0: [(2, 232), (2, 233), (2, 234)],\n",
       " 1633865820.0: [(2, 237), (2, 238), (2, 239)],\n",
       " 1633865825.0: [(2, 240), (2, 241), (2, 242)],\n",
       " 1633865830.0: [(2, 243), (2, 244), (2, 245), (2, 246), (2, 247)],\n",
       " 1633865836.0: [(2, 248), (2, 249), (2, 250), (2, 251), (2, 252)],\n",
       " 1633865841.0: [(2, 253), (2, 254), (2, 255), (2, 256)],\n",
       " 1633865846.0: [(2, 257), (2, 258), (2, 259), (2, 260)],\n",
       " 1633865851.0: [(2, 261), (2, 262), (2, 263), (2, 264), (2, 265)],\n",
       " 1633865856.0: [(2, 266), (2, 267), (2, 268), (2, 269)],\n",
       " 1633865861.0: [(2, 270), (2, 271), (2, 272), (2, 273), (2, 274)],\n",
       " 1633865866.0: [(2, 275), (2, 276), (2, 277), (2, 278), (2, 279)],\n",
       " 1633865872.0: [(2, 280), (2, 281), (2, 282), (2, 283), (2, 284)],\n",
       " 1633865877.0: [(2, 285), (2, 286), (2, 287), (2, 288), (2, 289)],\n",
       " 1633865882.0: [(2, 290), (2, 291), (2, 292), (2, 293), (2, 294)],\n",
       " 1633870726.0: [(2, 325), (2, 326), (2, 327), (2, 328)],\n",
       " 1633870731.0: [(2, 329), (2, 330), (2, 331), (2, 332)],\n",
       " 1633870736.0: [(2, 333), (2, 334), (2, 335), (2, 336), (2, 337)],\n",
       " 1633870741.0: [(2, 338), (2, 339), (2, 340), (2, 341)],\n",
       " 1633870746.0: [(2, 342), (2, 343), (2, 344), (2, 345)],\n",
       " 1633870751.0: [(2, 346), (2, 347), (2, 348), (2, 349)],\n",
       " 1633870756.0: [(2, 350), (2, 351), (2, 352), (2, 353)],\n",
       " 1633870762.0: [(2, 354), (2, 355), (2, 356), (2, 357), (2, 358)],\n",
       " 1633870767.0: [(2, 359), (2, 360), (2, 361)],\n",
       " 1633870772.0: [(2, 362), (2, 363), (2, 364), (2, 365)],\n",
       " 1633870777.0: [(2, 366), (2, 367), (2, 368), (2, 369), (2, 370)],\n",
       " 1633870782.0: [(2, 371), (2, 372), (2, 373), (2, 374)],\n",
       " 1633870787.0: [(2, 375), (2, 376), (2, 377), (2, 378), (2, 379)],\n",
       " 1633870792.0: [(2, 380), (2, 381), (2, 382), (2, 383), (2, 384)],\n",
       " 1633870803.0: [(2, 389), (2, 390), (2, 391), (2, 392)],\n",
       " 1633870808.0: [(2, 393), (2, 394), (2, 395), (2, 396), (2, 397)],\n",
       " 1633870813.0: [(2, 398), (2, 399), (2, 400)],\n",
       " 1633870818.0: [(2, 401), (2, 402), (2, 403), (2, 404), (2, 405)],\n",
       " 1633870828.0: [(2, 408), (2, 409), (2, 410)],\n",
       " 1633873970.0: [(2, 486), (2, 487), (2, 488)],\n",
       " 1633874315.0: [(2, 525), (2, 526), (2, 527), (2, 528)],\n",
       " 1633874320.0: [(2, 529), (2, 530), (2, 531)],\n",
       " 1633874326.0: [(2, 532), (2, 533), (2, 534), (2, 535), (2, 536)],\n",
       " 1633874331.0: [(2, 537), (2, 538), (2, 539), (2, 540), (2, 541)],\n",
       " 1633874336.0: [(2, 542), (2, 543), (2, 544), (2, 545), (2, 546)],\n",
       " 1633874341.0: [(2, 547), (2, 548), (2, 549), (2, 550), (2, 551)],\n",
       " 1633874346.0: [(2, 552), (2, 553), (2, 554), (2, 555), (2, 556)],\n",
       " 1633874351.0: [(2, 557), (2, 558), (2, 559), (2, 560)],\n",
       " 1633874356.0: [(2, 561), (2, 562), (2, 563)],\n",
       " 1633874398.0: [(2, 576), (2, 577), (2, 578)],\n",
       " 1633874485.0: [(2, 591), (2, 592), (2, 593), (2, 594)],\n",
       " 1633874500.0: [(2, 597), (2, 598), (2, 599)],\n",
       " 1633874505.0: [(2, 600), (2, 601), (2, 602)],\n",
       " 1633874511.0: [(2, 603), (2, 604), (2, 605)],\n",
       " 1633874516.0: [(2, 606), (2, 607), (2, 608)],\n",
       " 1633874521.0: [(2, 609), (2, 610), (2, 611)],\n",
       " 1633874536.0: [(2, 616), (2, 617), (2, 618)],\n",
       " 1633874583.0: [(2, 629), (2, 630), (2, 631), (2, 632)],\n",
       " 1633874593.0: [(2, 635), (2, 636), (2, 637), (2, 638), (2, 639)],\n",
       " 1633876394.0: [(2, 667), (2, 668), (2, 669), (2, 670), (2, 671)],\n",
       " 1633876399.0: [(2, 672), (2, 673), (2, 674), (2, 675), (2, 676)],\n",
       " 1633876405.0: [(2, 677), (2, 678), (2, 679), (2, 680), (2, 681)],\n",
       " 1633876410.0: [(2, 682), (2, 683), (2, 684)],\n",
       " 1633878461.0: [(2, 688), (2, 689), (2, 690)],\n",
       " 1633885041.0: [(2, 881), (2, 882), (2, 883), (2, 884), (2, 885)],\n",
       " 1633885046.0: [(2, 886), (2, 887), (2, 888)],\n",
       " 1633885051.0: [(2, 889), (2, 890), (2, 891), (2, 892), (2, 893)],\n",
       " 1633885056.0: [(2, 894), (2, 895), (2, 896), (2, 897), (2, 898)],\n",
       " 1633885061.0: [(2, 899), (2, 900), (2, 901), (2, 902), (2, 903)],\n",
       " 1633885066.0: [(2, 904), (2, 905), (2, 906), (2, 907), (2, 908)],\n",
       " 1633885077.0: [(2, 911), (2, 912), (2, 913), (2, 914)],\n",
       " 1633885082.0: [(2, 915), (2, 916), (2, 917), (2, 918), (2, 919)],\n",
       " 1633885118.0: [(2, 927), (2, 928), (2, 929), (2, 930), (2, 931)],\n",
       " 1633885149.0: [(2, 937), (2, 938), (2, 939)],\n",
       " 1633885159.0: [(2, 941), (2, 942), (2, 943)],\n",
       " 1633885164.0: [(2, 944), (2, 945), (2, 946), (2, 947)],\n",
       " 1633885169.0: [(2, 948), (2, 949), (2, 950), (2, 951)],\n",
       " 1633885180.0: [(2, 953), (2, 954), (2, 955), (2, 956)],\n",
       " 1633885190.0: [(2, 959), (2, 960), (2, 961)],\n",
       " 1633885200.0: [(2, 964), (2, 965), (2, 966)],\n",
       " 1633885205.0: [(2, 967), (2, 968), (2, 969)],\n",
       " 1633962294.0: [(2, 1018), (2, 1019), (2, 1020), (2, 1021)],\n",
       " 1633962299.0: [(2, 1022), (2, 1023), (2, 1024)],\n",
       " 1633962305.0: [(2, 1025), (2, 1026), (2, 1027), (2, 1028)]}"
      ]
     },
     "execution_count": 43,
     "metadata": {},
     "output_type": "execute_result"
    }
   ],
   "source": [
    "#combine_simultaneous_timestamps in takes the time stamps from the detection data frames (i.e df_BR_Falcon)\n",
    "# and looks to see if there are at least 3 simulatenous detections. Note that there can be more than one detection \n",
    "#from a given station. For example Station A has detections on Port 1 & 2 and Station B has detections on Port 4, \n",
    "#this would qualify as having three simultaneous detections\n",
    "\n",
    "#add a little bit of commenting here\n",
    "def combine_simultaneous_timestamps(*timestamp_lists):\n",
    "    combined_timestamps = {}\n",
    "    \n",
    "    for list_index, timestamps in enumerate(timestamp_lists):\n",
    "        for index, timestamp in enumerate(timestamps):\n",
    "            if timestamp in combined_timestamps:\n",
    "                combined_timestamps[timestamp].append((list_index, index))\n",
    "            else:\n",
    "                combined_timestamps[timestamp] = [(list_index, index)]\n",
    "    filtered_combined_timestamps = {timestamp: indexes for timestamp, indexes in combined_timestamps.items() if len(indexes) > 2}\n",
    "\n",
    "    return filtered_combined_timestamps\n",
    "\n",
    "# Example lists of time stamps\n",
    "list1 = list(df_BIT_Falcon['tsCorrected'])\n",
    "list2 = list(df_SE_Light_Falcon['tsCorrected'])\n",
    "list3 = list(df_BR_Falcon['tsCorrected'])\n",
    "\n",
    "combined = combine_simultaneous_timestamps(list1,list2, list3)\n",
    "#the below is read [Unix time :(list number, index in that list)]\n",
    "#uncommenting .keys just gives the unix time where multiple detections were found\n",
    "combined#.keys()"
   ]
  },
  {
   "cell_type": "code",
   "execution_count": 47,
   "id": "0a966bb9",
   "metadata": {},
   "outputs": [
    {
     "data": {
      "text/plain": [
       "1063"
      ]
     },
     "execution_count": 47,
     "metadata": {},
     "output_type": "execute_result"
    }
   ],
   "source": [
    "len(list3)"
   ]
  },
  {
   "cell_type": "code",
   "execution_count": 13,
   "id": "6c892ddb",
   "metadata": {},
   "outputs": [],
   "source": [
    "# let us just take a random example and make a tesselated geometry. Let us just use the first entry\n",
    "\n",
    "a = combined[list(combined.keys())[0]]\n",
    "key_list = list(combined.keys())\n",
    "for i in range(len(a)):\n",
    "    if a[i][0] == 0:\n",
    "        data_column_rows = df_SE_Light_Falcon[df_SE_Light_Falcon.tsCorrected == key_list[i]]\n",
    "        data_SEL = []\n",
    "        for index,row in data_column_rows.iterrows():\n",
    "            data_SEL.append([row['port'],row['sig']])    \n",
    "    if a[i][0] == 1:\n",
    "        data_column_rows = df_BR_Falcon[df_BR_Falcon.tsCorrected == key_list[i]]\n",
    "        data_BR = []\n",
    "        for index,row in data_column_rows.iterrows():\n",
    "            data_BR.append([row['port'],row['sig']])"
   ]
  },
  {
   "cell_type": "code",
   "execution_count": 14,
   "id": "f14ce3f7",
   "metadata": {},
   "outputs": [
    {
     "data": {
      "text/plain": [
       "[['L3', -97.0], ['L5', -98.0], ['L2', -98.0], ['L4', -99.0]]"
      ]
     },
     "execution_count": 14,
     "metadata": {},
     "output_type": "execute_result"
    }
   ],
   "source": [
    "#what are the ports of the Black Rock station that had detections at this time\n",
    "data_BR"
   ]
  },
  {
   "cell_type": "code",
   "execution_count": 15,
   "id": "3ecc625d",
   "metadata": {},
   "outputs": [
    {
     "data": {
      "text/plain": [
       "[['L1', -88.0]]"
      ]
     },
     "execution_count": 15,
     "metadata": {},
     "output_type": "execute_result"
    }
   ],
   "source": [
    "#what are the ports of the Southeast Light station that had detections at this time\n",
    "data_SEL"
   ]
  },
  {
   "cell_type": "code",
   "execution_count": 16,
   "id": "39055c56",
   "metadata": {},
   "outputs": [
    {
     "data": {
      "text/plain": [
       "[(0, 1), (1, 1032), (1, 1033)]"
      ]
     },
     "execution_count": 16,
     "metadata": {},
     "output_type": "execute_result"
    }
   ],
   "source": [
    "a"
   ]
  },
  {
   "cell_type": "code",
   "execution_count": 17,
   "id": "641d28f0",
   "metadata": {},
   "outputs": [
    {
     "data": {
      "text/plain": [
       "[['L3', -97.0], ['L5', -98.0], ['L2', -98.0], ['L4', -99.0]]"
      ]
     },
     "execution_count": 17,
     "metadata": {},
     "output_type": "execute_result"
    }
   ],
   "source": [
    "data_BR"
   ]
  },
  {
   "cell_type": "code",
   "execution_count": 18,
   "id": "a5c5f960",
   "metadata": {},
   "outputs": [
    {
     "data": {
      "text/html": [
       "<div>\n",
       "<style scoped>\n",
       "    .dataframe tbody tr th:only-of-type {\n",
       "        vertical-align: middle;\n",
       "    }\n",
       "\n",
       "    .dataframe tbody tr th {\n",
       "        vertical-align: top;\n",
       "    }\n",
       "\n",
       "    .dataframe thead th {\n",
       "        text-align: right;\n",
       "    }\n",
       "</style>\n",
       "<table border=\"1\" class=\"dataframe\">\n",
       "  <thead>\n",
       "    <tr style=\"text-align: right;\">\n",
       "      <th></th>\n",
       "      <th>X</th>\n",
       "      <th>Y</th>\n",
       "      <th>Z</th>\n",
       "      <th>RSSI</th>\n",
       "      <th>Latitude</th>\n",
       "      <th>Longitude</th>\n",
       "    </tr>\n",
       "  </thead>\n",
       "  <tbody>\n",
       "    <tr>\n",
       "      <th>16</th>\n",
       "      <td>3683.221321</td>\n",
       "      <td>-3837.603645</td>\n",
       "      <td>-39.9</td>\n",
       "      <td>-97.0</td>\n",
       "      <td>41.113388</td>\n",
       "      <td>-71.508111</td>\n",
       "    </tr>\n",
       "    <tr>\n",
       "      <th>39</th>\n",
       "      <td>3685.183441</td>\n",
       "      <td>-3833.683754</td>\n",
       "      <td>-39.9</td>\n",
       "      <td>-97.0</td>\n",
       "      <td>41.113423</td>\n",
       "      <td>-71.508088</td>\n",
       "    </tr>\n",
       "    <tr>\n",
       "      <th>53</th>\n",
       "      <td>3690.793740</td>\n",
       "      <td>-3840.647860</td>\n",
       "      <td>-39.9</td>\n",
       "      <td>-97.0</td>\n",
       "      <td>41.113360</td>\n",
       "      <td>-71.508021</td>\n",
       "    </tr>\n",
       "    <tr>\n",
       "      <th>63</th>\n",
       "      <td>3688.011201</td>\n",
       "      <td>-3841.020503</td>\n",
       "      <td>-39.9</td>\n",
       "      <td>-97.0</td>\n",
       "      <td>41.113357</td>\n",
       "      <td>-71.508054</td>\n",
       "    </tr>\n",
       "    <tr>\n",
       "      <th>72</th>\n",
       "      <td>3681.385388</td>\n",
       "      <td>-3837.942099</td>\n",
       "      <td>-39.9</td>\n",
       "      <td>-97.0</td>\n",
       "      <td>41.113385</td>\n",
       "      <td>-71.508133</td>\n",
       "    </tr>\n",
       "    <tr>\n",
       "      <th>...</th>\n",
       "      <td>...</td>\n",
       "      <td>...</td>\n",
       "      <td>...</td>\n",
       "      <td>...</td>\n",
       "      <td>...</td>\n",
       "      <td>...</td>\n",
       "    </tr>\n",
       "    <tr>\n",
       "      <th>77686</th>\n",
       "      <td>6816.695611</td>\n",
       "      <td>-8480.822472</td>\n",
       "      <td>892.0</td>\n",
       "      <td>-97.0</td>\n",
       "      <td>41.071630</td>\n",
       "      <td>-71.470688</td>\n",
       "    </tr>\n",
       "    <tr>\n",
       "      <th>77689</th>\n",
       "      <td>6937.488413</td>\n",
       "      <td>-8595.037269</td>\n",
       "      <td>892.2</td>\n",
       "      <td>-97.0</td>\n",
       "      <td>41.070603</td>\n",
       "      <td>-71.469246</td>\n",
       "    </tr>\n",
       "    <tr>\n",
       "      <th>77782</th>\n",
       "      <td>10600.247063</td>\n",
       "      <td>-12532.368933</td>\n",
       "      <td>809.6</td>\n",
       "      <td>-97.0</td>\n",
       "      <td>41.035194</td>\n",
       "      <td>-71.425502</td>\n",
       "    </tr>\n",
       "    <tr>\n",
       "      <th>77797</th>\n",
       "      <td>11153.140724</td>\n",
       "      <td>-13225.752559</td>\n",
       "      <td>788.0</td>\n",
       "      <td>-97.0</td>\n",
       "      <td>41.028958</td>\n",
       "      <td>-71.418898</td>\n",
       "    </tr>\n",
       "    <tr>\n",
       "      <th>77801</th>\n",
       "      <td>11341.616259</td>\n",
       "      <td>-13475.826411</td>\n",
       "      <td>779.0</td>\n",
       "      <td>-97.0</td>\n",
       "      <td>41.026709</td>\n",
       "      <td>-71.416647</td>\n",
       "    </tr>\n",
       "  </tbody>\n",
       "</table>\n",
       "<p>5407 rows × 6 columns</p>\n",
       "</div>"
      ],
      "text/plain": [
       "                  X             Y      Z  RSSI   Latitude  Longitude\n",
       "16      3683.221321  -3837.603645  -39.9 -97.0  41.113388 -71.508111\n",
       "39      3685.183441  -3833.683754  -39.9 -97.0  41.113423 -71.508088\n",
       "53      3690.793740  -3840.647860  -39.9 -97.0  41.113360 -71.508021\n",
       "63      3688.011201  -3841.020503  -39.9 -97.0  41.113357 -71.508054\n",
       "72      3681.385388  -3837.942099  -39.9 -97.0  41.113385 -71.508133\n",
       "...             ...           ...    ...   ...        ...        ...\n",
       "77686   6816.695611  -8480.822472  892.0 -97.0  41.071630 -71.470688\n",
       "77689   6937.488413  -8595.037269  892.2 -97.0  41.070603 -71.469246\n",
       "77782  10600.247063 -12532.368933  809.6 -97.0  41.035194 -71.425502\n",
       "77797  11153.140724 -13225.752559  788.0 -97.0  41.028958 -71.418898\n",
       "77801  11341.616259 -13475.826411  779.0 -97.0  41.026709 -71.416647\n",
       "\n",
       "[5407 rows x 6 columns]"
      ]
     },
     "execution_count": 18,
     "metadata": {},
     "output_type": "execute_result"
    }
   ],
   "source": [
    "BRR_Station.antennas[2].rad_pattern[BRR_Station.antennas[2].rad_pattern.RSSI == -97]\n"
   ]
  },
  {
   "cell_type": "code",
   "execution_count": 19,
   "id": "9faaea39",
   "metadata": {},
   "outputs": [
    {
     "data": {
      "image/png": "[encoded data removed]",
      "text/plain": [
       "<Figure size 432x288 with 1 Axes>"
      ]
     },
     "metadata": {
      "needs_background": "light"
     },
     "output_type": "display_data"
    }
   ],
   "source": [
    "import numpy as np\n",
    "import matplotlib.pyplot as plt\n",
    "from scipy import spatial\n",
    "\n",
    "#plot all of the points where the RSSI of the black rock station is equal to -97 dBm (black)\n",
    "#find the boundary points (red) \n",
    "\n",
    "\n",
    "\n",
    "\n",
    "#xy = np.loadtxt('xy.txt')\n",
    "x = BRR_Station.antennas[2].rad_pattern[BRR_Station.antennas[2].rad_pattern.RSSI == -97].X\n",
    "y = BRR_Station.antennas[2].rad_pattern[BRR_Station.antennas[2].rad_pattern.RSSI == -97].Y\n",
    "\n",
    "xy = np.column_stack((np.array(x).T,np.array(y).T))\n",
    "\n",
    "hull = spatial.ConvexHull(xy, incremental=False, qhull_options='Qt')\n",
    "hull_indices = hull.vertices\n",
    "\n",
    "boundary_x = []\n",
    "boundary_y = []\n",
    "\n",
    "for i in range(len(hull_indices)):\n",
    "    index = hull_indices[i]\n",
    "    boundary_x.append(xy[index, 0].astype('float64'))\n",
    "    boundary_y.append(xy[index, 1].astype('float64'))\n",
    "\n",
    "plt.plot(x, y, 'o', color='black', markersize=6)\n",
    "plt.plot(boundary_x, boundary_y, 'o', color='red', markersize=4)\n",
    "\n",
    "plt.show()"
   ]
  },
  {
   "cell_type": "code",
   "execution_count": 20,
   "id": "543c1af8",
   "metadata": {},
   "outputs": [
    {
     "data": {
      "text/plain": [
       "array([[  3683.2213209 ,  -3837.60364485],\n",
       "       [  3685.18344096,  -3833.68375409],\n",
       "       [  3690.7937398 ,  -3840.64786046],\n",
       "       ...,\n",
       "       [ 10600.2470628 , -12532.36893294],\n",
       "       [ 11153.14072387, -13225.75255897],\n",
       "       [ 11341.61625879, -13475.82641104]])"
      ]
     },
     "execution_count": 20,
     "metadata": {},
     "output_type": "execute_result"
    }
   ],
   "source": [
    "np.column_stack((np.array(x).T,np.array(y).T))"
   ]
  },
  {
   "cell_type": "code",
   "execution_count": 21,
   "id": "a409d495",
   "metadata": {},
   "outputs": [
    {
     "data": {
      "text/plain": [
       "16        3683.221321\n",
       "39        3685.183441\n",
       "53        3690.793740\n",
       "63        3688.011201\n",
       "72        3681.385388\n",
       "             ...     \n",
       "77686     6816.695611\n",
       "77689     6937.488413\n",
       "77782    10600.247063\n",
       "77797    11153.140724\n",
       "77801    11341.616259\n",
       "Name: X, Length: 5407, dtype: float64"
      ]
     },
     "execution_count": 21,
     "metadata": {},
     "output_type": "execute_result"
    }
   ],
   "source": [
    "BRR_Station.antennas[2].rad_pattern[BRR_Station.antennas[2].rad_pattern.RSSI == -97].X"
   ]
  },
  {
   "cell_type": "code",
   "execution_count": 22,
   "id": "8cb2ac54",
   "metadata": {},
   "outputs": [],
   "source": [
    "#okay back to the ranch, find the boundaries for each of the ports and their respective RSSI, we will use the \n",
    "#black rock station as our reference station. \n",
    "\n",
    "a2 = BRR_Station.provide_boundary(1,-98)\n",
    "a3 = BRR_Station.provide_boundary(2,-97)\n",
    "a4 = BRR_Station.provide_boundary(3,-99)\n",
    "a5 = SEL_Station.provide_boundary(0,-88,0,611)"
   ]
  },
  {
   "cell_type": "code",
   "execution_count": 23,
   "id": "24af4fcc",
   "metadata": {},
   "outputs": [
    {
     "data": {
      "text/plain": [
       "<matplotlib.collections.PathCollection at 0x7ff55263b670>"
      ]
     },
     "execution_count": 23,
     "metadata": {},
     "output_type": "execute_result"
    },
    {
     "data": {
      "image/png": "[encoded data removed]",
      "text/plain": [
       "<Figure size 432x288 with 1 Axes>"
      ]
     },
     "metadata": {
      "needs_background": "light"
     },
     "output_type": "display_data"
    }
   ],
   "source": [
    "#plot each of the geometries. each one will have a different color. XY axis are in meters. \n",
    "\n",
    "plt.scatter(a2[:,0],a2[:,1])\n",
    "plt.scatter(a3[:,0],a3[:,1])\n",
    "plt.scatter(a4[:,0],a4[:,1])\n",
    "plt.scatter(a5[:,0],a5[:,1])\n"
   ]
  },
  {
   "cell_type": "code",
   "execution_count": 24,
   "id": "12a06f19",
   "metadata": {},
   "outputs": [],
   "source": [
    "import matplotlib.pyplot as plt\n",
    "from shapely.geometry import Point, Polygon\n",
    "\n",
    "def is_point_inside_hull(hull_vertices, point):\n",
    "    hull_polygon = Polygon(hull_vertices)\n",
    "    point = Point(point)\n",
    "    return hull_polygon.contains(point)\n",
    "\n",
    "def indices_where_all_true(*lists):\n",
    "    return [i for i, values in enumerate(zip(*lists)) if all(values)]\n",
    "\n",
    "# Define the range for x and y values\n",
    "x_values_hull = np.concatenate((a2[:,0],a3[:,0],a4[:,0],a5[:,0]))\n",
    "y_values_hull = np.concatenate((a2[:,1],a3[:,1],a4[:,1],a5[:,1]))\n",
    "z_values_hull = np.concatenate((a2[:,2],a3[:,2],a4[:,2],a5[:,2]))\n",
    "\n",
    "x_min, x_max = np.min(x_values_hull), np.max(x_values_hull)\n",
    "y_min, y_max = np.min(y_values_hull), np.max(y_values_hull)\n",
    "z_min, z_max = np.min(z_values_hull), np.max(z_values_hull)\n",
    "\n",
    "# Generate 1e5 (100,000) random 2D points\n",
    "num_points = int(1e5)\n",
    "x_values = np.random.uniform(x_min, x_max, num_points)\n",
    "y_values = np.random.uniform(y_min, y_max, num_points)\n",
    "z_values = np.random.uniform(z_min, z_max, num_points)\n",
    "\n",
    "# Combine x and y values into 2D points\n",
    "points = np.column_stack((x_values, y_values,z_values))\n",
    "\n",
    "# Example usage:\n",
    "#hull_vertices = [(0, 0), (0, 1), (1, 1), (1, 0)]\n",
    "#point_to_check = (25000, 0.5)\n",
    "\n",
    "result_list_2 = [is_point_inside_hull(a2, x) for x in points]\n",
    "result_list_3 = [is_point_inside_hull(a3, x) for x in points]\n",
    "result_list_4 = [is_point_inside_hull(a4, x) for x in points]\n",
    "result_list_5 = [is_point_inside_hull(a5, x) for x in points]\n",
    "\n",
    "index_map = indices_where_all_true(result_list_2,result_list_3,result_list_4,result_list_5)\n"
   ]
  },
  {
   "cell_type": "code",
   "execution_count": 25,
   "id": "ed5114ed",
   "metadata": {},
   "outputs": [
    {
     "data": {
      "text/plain": [
       "<matplotlib.collections.PathCollection at 0x7ff5525d1ff0>"
      ]
     },
     "execution_count": 25,
     "metadata": {},
     "output_type": "execute_result"
    },
    {
     "data": {
      "image/png": "[encoded data removed]",
      "text/plain": [
       "<Figure size 432x288 with 1 Axes>"
      ]
     },
     "metadata": {
      "needs_background": "light"
     },
     "output_type": "display_data"
    }
   ],
   "source": [
    "plt.scatter(a2[:,0],a2[:,1])\n",
    "plt.scatter(a3[:,0],a3[:,1])\n",
    "plt.scatter(a4[:,0],a4[:,1])\n",
    "plt.scatter(a5[:,0],a5[:,1])\n",
    "\n",
    "plt.scatter(points[index_map][:,0],points[index_map][:,1])"
   ]
  },
  {
   "cell_type": "code",
   "execution_count": 26,
   "id": "ced5bd10",
   "metadata": {},
   "outputs": [
    {
     "name": "stderr",
     "output_type": "stream",
     "text": [
      "/home/main/.local/lib/python3.10/site-packages/sklearn/cluster/_kmeans.py:1412: FutureWarning: The default value of `n_init` will change from 10 to 'auto' in 1.4. Set the value of `n_init` explicitly to suppress the warning\n",
      "  super()._check_params_vs_input(X, default_n_init=10)\n"
     ]
    }
   ],
   "source": [
    "import numpy as np\n",
    "from sklearn.cluster import KMeans\n",
    "import matplotlib.pyplot as plt\n",
    "from mpl_toolkits.mplot3d import Axes3D\n",
    "\n",
    "# Performing K-means clustering\n",
    "num_clusters = 23\n",
    "kmeans = KMeans(n_clusters=num_clusters)\n",
    "labels = kmeans.fit_predict(points[index_map])\n",
    "\n"
   ]
  },
  {
   "cell_type": "code",
   "execution_count": 27,
   "id": "0d1b95f1",
   "metadata": {},
   "outputs": [
    {
     "data": {
      "text/plain": [
       "array([12,  3, 22, ...,  7, 14,  7], dtype=int32)"
      ]
     },
     "execution_count": 27,
     "metadata": {},
     "output_type": "execute_result"
    }
   ],
   "source": [
    "labels"
   ]
  },
  {
   "cell_type": "code",
   "execution_count": 28,
   "id": "ae2cb35d",
   "metadata": {},
   "outputs": [
    {
     "data": {
      "text/plain": [
       "<matplotlib.collections.PathCollection at 0x7ff536a217e0>"
      ]
     },
     "execution_count": 28,
     "metadata": {},
     "output_type": "execute_result"
    },
    {
     "data": {
      "image/png": "[encoded data removed]",
      "text/plain": [
       "<Figure size 432x288 with 1 Axes>"
      ]
     },
     "metadata": {
      "needs_background": "light"
     },
     "output_type": "display_data"
    }
   ],
   "source": [
    "plt.scatter(points[index_map][labels==0][:,0],points[index_map][labels==0][:,1])"
   ]
  },
  {
   "cell_type": "code",
   "execution_count": 29,
   "id": "7292f430",
   "metadata": {},
   "outputs": [
    {
     "name": "stdout",
     "output_type": "stream",
     "text": [
      "1114.2963890999781\n",
      "1002.8794056053222\n",
      "665.7512929404608\n",
      "1255.2318569980198\n",
      "569.2392043841614\n",
      "1171.2886272982541\n",
      "1179.8813076348372\n",
      "866.2067810932025\n",
      "752.1444180814436\n",
      "826.8683373216912\n",
      "720.4721599772935\n",
      "639.9511821692756\n",
      "1210.3391335199776\n",
      "825.8697852481566\n",
      "1214.4415909138381\n",
      "1010.3465789376033\n",
      "994.0943350528034\n",
      "375.28417104502125\n",
      "994.3570945414338\n",
      "803.0838848282103\n",
      "641.9038860939194\n",
      "834.2917127764151\n",
      "932.6882650199279\n"
     ]
    }
   ],
   "source": [
    "for i in range(23):\n",
    "    g0 = points[index_map][labels==i]\n",
    "    hull = spatial.ConvexHull(g0, incremental=False, qhull_options='Qt')\n",
    "    r = ((hull.volume * 3/4)/np.pi)**(1/3)\n",
    "    print(r)"
   ]
  },
  {
   "cell_type": "code",
   "execution_count": null,
   "id": "a03847b7",
   "metadata": {},
   "outputs": [],
   "source": []
  },
  {
   "cell_type": "code",
   "execution_count": 30,
   "id": "8097ea7b",
   "metadata": {},
   "outputs": [
    {
     "data": {
      "text/plain": [
       "932.6882650199279"
      ]
     },
     "execution_count": 30,
     "metadata": {},
     "output_type": "execute_result"
    }
   ],
   "source": [
    "r"
   ]
  },
  {
   "cell_type": "code",
   "execution_count": 31,
   "id": "4376c1b0",
   "metadata": {},
   "outputs": [
    {
     "data": {
      "text/plain": [
       "array([[-13648.24452037,   5407.47623075,    550.48735856],\n",
       "       [-11705.94016157,  -6960.03235178,    625.61743013],\n",
       "       [ -7742.28294426,   -164.55730994,    910.59610909],\n",
       "       ...,\n",
       "       [  8270.33996873,   1137.71710256,   1127.42813633],\n",
       "       [ -4554.06511345, -10542.4279274 ,    -24.50408271],\n",
       "       [  8671.95762802,    948.94281847,    350.05069943]])"
      ]
     },
     "execution_count": 31,
     "metadata": {},
     "output_type": "execute_result"
    }
   ],
   "source": [
    "points[index_map]"
   ]
  },
  {
   "cell_type": "code",
   "execution_count": 32,
   "id": "8db0198b",
   "metadata": {},
   "outputs": [
    {
     "data": {
      "image/png": "[encoded data removed]",
      "text/plain": [
       "<Figure size 432x288 with 1 Axes>"
      ]
     },
     "metadata": {
      "needs_background": "light"
     },
     "output_type": "display_data"
    }
   ],
   "source": [
    "boundary_x = []\n",
    "boundary_y = []\n",
    "boundary_z = []\n",
    "\n",
    "hull_indices = hull.vertices\n",
    "\n",
    "\n",
    "for i in range(len(hull_indices)):\n",
    "    index = hull_indices[i]\n",
    "    boundary_x.append(points[index_map][index, 0].astype('float64'))\n",
    "    boundary_y.append(points[index_map][index, 1].astype('float64'))\n",
    "    boundary_z.append(points[index_map][index, 2].astype('float64'))\n",
    "plt.plot(boundary_x, boundary_y)\n",
    "\n",
    "plt.show()"
   ]
  },
  {
   "cell_type": "code",
   "execution_count": 33,
   "id": "ce63def0",
   "metadata": {},
   "outputs": [
    {
     "data": {
      "text/plain": [
       "3398585083.598721"
      ]
     },
     "execution_count": 33,
     "metadata": {},
     "output_type": "execute_result"
    }
   ],
   "source": [
    "hull.volume\n",
    "#338 square miles "
   ]
  },
  {
   "cell_type": "code",
   "execution_count": 34,
   "id": "3307af89",
   "metadata": {},
   "outputs": [
    {
     "data": {
      "text/plain": [
       "10.37249929043725"
      ]
     },
     "execution_count": 34,
     "metadata": {},
     "output_type": "execute_result"
    }
   ],
   "source": [
    "np.sqrt(338/np.pi) "
   ]
  },
  {
   "cell_type": "code",
   "execution_count": 35,
   "id": "637272ec",
   "metadata": {},
   "outputs": [
    {
     "data": {
      "text/html": [
       "<div>\n",
       "<style scoped>\n",
       "    .dataframe tbody tr th:only-of-type {\n",
       "        vertical-align: middle;\n",
       "    }\n",
       "\n",
       "    .dataframe tbody tr th {\n",
       "        vertical-align: top;\n",
       "    }\n",
       "\n",
       "    .dataframe thead th {\n",
       "        text-align: right;\n",
       "    }\n",
       "</style>\n",
       "<table border=\"1\" class=\"dataframe\">\n",
       "  <thead>\n",
       "    <tr style=\"text-align: right;\">\n",
       "      <th></th>\n",
       "      <th>X</th>\n",
       "      <th>Y</th>\n",
       "      <th>Z</th>\n",
       "      <th>RSSI</th>\n",
       "      <th>Latitude</th>\n",
       "      <th>Longitude</th>\n",
       "    </tr>\n",
       "  </thead>\n",
       "  <tbody>\n",
       "    <tr>\n",
       "      <th>12</th>\n",
       "      <td>-3680.368583</td>\n",
       "      <td>3837.538188</td>\n",
       "      <td>-39.9</td>\n",
       "      <td>-98.0</td>\n",
       "      <td>41.182412</td>\n",
       "      <td>-71.596055</td>\n",
       "    </tr>\n",
       "    <tr>\n",
       "      <th>19</th>\n",
       "      <td>-3683.825977</td>\n",
       "      <td>3836.920864</td>\n",
       "      <td>-39.9</td>\n",
       "      <td>-98.0</td>\n",
       "      <td>41.182406</td>\n",
       "      <td>-71.596096</td>\n",
       "    </tr>\n",
       "    <tr>\n",
       "      <th>34</th>\n",
       "      <td>-3684.610223</td>\n",
       "      <td>3834.300602</td>\n",
       "      <td>-39.9</td>\n",
       "      <td>-98.0</td>\n",
       "      <td>41.182383</td>\n",
       "      <td>-71.596105</td>\n",
       "    </tr>\n",
       "    <tr>\n",
       "      <th>61</th>\n",
       "      <td>-3688.523265</td>\n",
       "      <td>3841.507439</td>\n",
       "      <td>-39.9</td>\n",
       "      <td>-98.0</td>\n",
       "      <td>41.182448</td>\n",
       "      <td>-71.596152</td>\n",
       "    </tr>\n",
       "    <tr>\n",
       "      <th>68</th>\n",
       "      <td>-3685.358291</td>\n",
       "      <td>3839.755541</td>\n",
       "      <td>-39.9</td>\n",
       "      <td>-98.0</td>\n",
       "      <td>41.182432</td>\n",
       "      <td>-71.596114</td>\n",
       "    </tr>\n",
       "    <tr>\n",
       "      <th>...</th>\n",
       "      <td>...</td>\n",
       "      <td>...</td>\n",
       "      <td>...</td>\n",
       "      <td>...</td>\n",
       "      <td>...</td>\n",
       "      <td>...</td>\n",
       "    </tr>\n",
       "    <tr>\n",
       "      <th>77778</th>\n",
       "      <td>-10460.075606</td>\n",
       "      <td>12351.584104</td>\n",
       "      <td>814.8</td>\n",
       "      <td>-98.0</td>\n",
       "      <td>41.258980</td>\n",
       "      <td>-71.677024</td>\n",
       "    </tr>\n",
       "    <tr>\n",
       "      <th>77785</th>\n",
       "      <td>-10709.317761</td>\n",
       "      <td>12674.231516</td>\n",
       "      <td>807.4</td>\n",
       "      <td>-98.0</td>\n",
       "      <td>41.261882</td>\n",
       "      <td>-71.680001</td>\n",
       "    </tr>\n",
       "    <tr>\n",
       "      <th>77788</th>\n",
       "      <td>-10820.024095</td>\n",
       "      <td>12816.867212</td>\n",
       "      <td>802.8</td>\n",
       "      <td>-98.0</td>\n",
       "      <td>41.263165</td>\n",
       "      <td>-71.681323</td>\n",
       "    </tr>\n",
       "    <tr>\n",
       "      <th>77806</th>\n",
       "      <td>-11664.573480</td>\n",
       "      <td>13896.471254</td>\n",
       "      <td>762.0</td>\n",
       "      <td>-98.0</td>\n",
       "      <td>41.272874</td>\n",
       "      <td>-71.691410</td>\n",
       "    </tr>\n",
       "    <tr>\n",
       "      <th>77808</th>\n",
       "      <td>-11882.544751</td>\n",
       "      <td>14168.877098</td>\n",
       "      <td>750.8</td>\n",
       "      <td>-98.0</td>\n",
       "      <td>41.275324</td>\n",
       "      <td>-71.694013</td>\n",
       "    </tr>\n",
       "  </tbody>\n",
       "</table>\n",
       "<p>6269 rows × 6 columns</p>\n",
       "</div>"
      ],
      "text/plain": [
       "                  X             Y      Z  RSSI   Latitude  Longitude\n",
       "12     -3680.368583   3837.538188  -39.9 -98.0  41.182412 -71.596055\n",
       "19     -3683.825977   3836.920864  -39.9 -98.0  41.182406 -71.596096\n",
       "34     -3684.610223   3834.300602  -39.9 -98.0  41.182383 -71.596105\n",
       "61     -3688.523265   3841.507439  -39.9 -98.0  41.182448 -71.596152\n",
       "68     -3685.358291   3839.755541  -39.9 -98.0  41.182432 -71.596114\n",
       "...             ...           ...    ...   ...        ...        ...\n",
       "77778 -10460.075606  12351.584104  814.8 -98.0  41.258980 -71.677024\n",
       "77785 -10709.317761  12674.231516  807.4 -98.0  41.261882 -71.680001\n",
       "77788 -10820.024095  12816.867212  802.8 -98.0  41.263165 -71.681323\n",
       "77806 -11664.573480  13896.471254  762.0 -98.0  41.272874 -71.691410\n",
       "77808 -11882.544751  14168.877098  750.8 -98.0  41.275324 -71.694013\n",
       "\n",
       "[6269 rows x 6 columns]"
      ]
     },
     "execution_count": 35,
     "metadata": {},
     "output_type": "execute_result"
    }
   ],
   "source": [
    "BRR_Station.antennas[0].rad_pattern[BRR_Station.antennas[0].rad_pattern.RSSI == -98]"
   ]
  },
  {
   "cell_type": "code",
   "execution_count": null,
   "id": "9c1ace1d",
   "metadata": {},
   "outputs": [],
   "source": []
  }
 ],
 "metadata": {
  "kernelspec": {
   "display_name": "Python 3 (ipykernel)",
   "language": "python",
   "name": "python3"
  },
  "language_info": {
   "codemirror_mode": {
    "name": "ipython",
    "version": 3
   },
   "file_extension": ".py",
   "mimetype": "text/x-python",
   "name": "python",
   "nbconvert_exporter": "python",
   "pygments_lexer": "ipython3",
   "version": "3.10.12"
  }
 },
 "nbformat": 4,
 "nbformat_minor": 5
}
